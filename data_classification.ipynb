{
 "cells": [
  {
   "cell_type": "code",
   "execution_count": 6,
   "metadata": {
    "collapsed": true
   },
   "outputs": [],
   "source": [
    "# Loading data\n",
    "\n",
    "import numpy as np\n",
    "from numpy import genfromtxt\n",
    "import matplotlib.pyplot as plt\n",
    "\n",
    "# Import the data of a CSV file into a numpy array\n",
    "cats = genfromtxt('cat.csv', delimiter=',') # 80 cats (one in a column) each by 4096 pixels\n",
    "dogs = genfromtxt('dog.csv', delimiter=',') # 80 dogs (one in a column) each by 4096 pixels\n",
    "\n",
    "# Combine two arrays (cats and dogs) into one (pets)\n",
    "pets = np.empty([160, 4096]) # empty array of size 160 x 4096\n",
    "for m in range(80):\n",
    "    pets[m,:] = np.reshape(np.transpose(np.reshape(cats[:,m], (64,64))), (1,4096)) # cats in the first 80 rows (one in a row)\n",
    "    pets[m+80,:] = np.reshape(np.transpose(np.reshape(dogs[:,m], (64,64))), (1,4096)) # dogs in the other 80 rows (one in a row)"
   ]
  },
  {
   "cell_type": "code",
   "execution_count": 7,
   "metadata": {
    "collapsed": true
   },
   "outputs": [],
   "source": [
    "def ShowBarPlot(init_data, labels):\n",
    "    \n",
    "    import numpy as np\n",
    "    import matplotlib.pyplot as plt\n",
    "    \n",
    "    # Converting data using edge detection\n",
    "    from skimage.filters import sobel\n",
    "    edge_data = np.empty([160, 4096])\n",
    "    for m in range(160):\n",
    "        edge_data[m,:] = np.reshape(sobel(np.reshape(init_data[m,:], (64,64))), (1,4096))\n",
    "        \n",
    "    # Converting data using thresholding\n",
    "    import cv2\n",
    "    thresh_data = np.empty([160, 4096])\n",
    "    for m in range(160):\n",
    "        retval,img = cv2.threshold(np.reshape(init_data[m,:], (64,64)), 135, 255, cv2.THRESH_BINARY)\n",
    "        thresh_data[m,:] = np.reshape(img, (1,4096))\n",
    "        \n",
    "    def ClassifyData(data):\n",
    "    \n",
    "        # data and labels for training\n",
    "        train_data = np.concatenate((data[:50, :], data[80:130,:]), axis=0)\n",
    "        train_labels = np.concatenate((labels[:50], labels[80:130]), axis=0)\n",
    "        # data and labels for testing\n",
    "        test_data = np.concatenate((data[50:80, :], data[130:,:]), axis=0)\n",
    "        test_labels = np.concatenate((labels[50:80], labels[130:]), axis=0)\n",
    "\n",
    "        # Apply ML algorithms\n",
    "\n",
    "        scores = []\n",
    "        \n",
    "        # Linear Discriminant Analysis (LDA)\n",
    "        from sklearn.discriminant_analysis import LinearDiscriminantAnalysis as LDA\n",
    "        lda = LDA()\n",
    "        clf = lda.fit(train_data, train_labels)\n",
    "        scores.append(clf.score(test_data, test_labels))\n",
    "\n",
    "        # Support Vector Machine (SVM)\n",
    "        from sklearn import svm\n",
    "        clf = svm.SVC(kernel='poly')\n",
    "        clf.fit(train_data, train_labels)\n",
    "        scores.append(clf.score(test_data, test_labels))\n",
    "        \n",
    "        # Gaussian Naive Bayes (GNB)\n",
    "        from sklearn.naive_bayes import GaussianNB\n",
    "        clf = GaussianNB()\n",
    "        clf.fit(train_data, train_labels)\n",
    "        scores.append(clf.score(test_data, test_labels))\n",
    "        \n",
    "        return [i * 100 for i in scores]\n",
    "    \n",
    "    scores_init = ClassifyData(init_data)\n",
    "    scores_edge = ClassifyData(edge_data)\n",
    "    scores_thresh = ClassifyData(thresh_data)\n",
    "    \n",
    "    algorithms = ('LDA', 'SVM', 'GNB')\n",
    "    n_algs = len(algorithms)\n",
    "    \n",
    "    # create a plot\n",
    "    fig, ax = plt.subplots()\n",
    "    index = np.arange(n_algs)\n",
    "    bar_width = 0.25\n",
    "    opacity = 0.8\n",
    "\n",
    "    rects1 = plt.bar(index, scores_init, bar_width, alpha=opacity, color='b', label='Initial dat')\n",
    "    rects2 = plt.bar(index + bar_width, scores_edge, bar_width, alpha=opacity, color='r', label='Edge detection')\n",
    "    rects3 = plt.bar(index + 2*bar_width, scores_thresh, bar_width, alpha=opacity, color='g', label='Thresholding')\n",
    "    \n",
    "    plt.ylabel('Accuracy (%)')\n",
    "    plt.title('Data classification')\n",
    "    plt.xticks(index + bar_width, algorithms)\n",
    "    plt.legend()\n",
    "\n",
    "    plt.tight_layout()\n",
    "    plt.show()"
   ]
  },
  {
   "cell_type": "code",
   "execution_count": 8,
   "metadata": {},
   "outputs": [
    {
     "name": "stdout",
     "output_type": "stream",
     "text": [
      "Using matplotlib backend: Qt5Agg\n"
     ]
    }
   ],
   "source": [
    "%matplotlib\n",
    "plt.close('all')\n",
    "\n",
    "labels = np.concatenate((np.ones(80), [2] * 80), axis=0)\n",
    "ShowBarPlot(pets, labels)"
   ]
  },
  {
   "cell_type": "code",
   "execution_count": null,
   "metadata": {
    "collapsed": true
   },
   "outputs": [],
   "source": []
  }
 ],
 "metadata": {
  "kernelspec": {
   "display_name": "Python 2",
   "language": "python",
   "name": "python2"
  },
  "language_info": {
   "codemirror_mode": {
    "name": "ipython",
    "version": 2
   },
   "file_extension": ".py",
   "mimetype": "text/x-python",
   "name": "python",
   "nbconvert_exporter": "python",
   "pygments_lexer": "ipython2",
   "version": "2.7.13"
  }
 },
 "nbformat": 4,
 "nbformat_minor": 2
}
