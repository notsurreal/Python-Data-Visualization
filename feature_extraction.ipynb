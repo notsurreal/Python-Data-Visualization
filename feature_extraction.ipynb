{
 "cells": [
  {
   "cell_type": "code",
   "execution_count": 18,
   "metadata": {},
   "outputs": [],
   "source": [
    "# Loading data\n",
    "\n",
    "import numpy as np\n",
    "from numpy import genfromtxt\n",
    "import matplotlib.pyplot as plt\n",
    "import tensorly as tl\n",
    "\n",
    "# Import the data of a CSV file into a numpy array\n",
    "cats = genfromtxt('cat.csv', delimiter=',') # 80 cats (one in a column) each by 4096 pixels\n",
    "dogs = genfromtxt('dog.csv', delimiter=',') # 80 dogs (one in a column) each by 4096 pixels\n",
    "\n",
    "# Combine two arrays (cats and dogs) into one tensor of size 64x64x160 (pets)\n",
    "pets = np.empty([64, 64, 160])\n",
    "for m in range(80):\n",
    "    pets[:,:,m] = np.transpose(np.reshape(cats[:,m], (64,64)))\n",
    "    pets[:,:,m+80] = np.transpose(np.reshape(dogs[:,m], (64,64)))"
   ]
  },
  {
   "cell_type": "code",
   "execution_count": 19,
   "metadata": {
    "collapsed": true
   },
   "outputs": [],
   "source": [
    "# Converting data using edge detection\n",
    "from skimage.filters import sobel\n",
    "edge_pets = np.empty([64, 64, 160])\n",
    "for m in range(160):\n",
    "    edge_pets[:,:,m] = sobel(pets[:,:,m])"
   ]
  },
  {
   "cell_type": "code",
   "execution_count": 20,
   "metadata": {
    "collapsed": true
   },
   "outputs": [],
   "source": [
    "# Converting data using thresholding\n",
    "import cv2\n",
    "thresh_pets = np.empty([64, 64, 160])\n",
    "for m in range(160):\n",
    "    retval,img = cv2.threshold(pets[:,:,m], 135, 255, cv2.THRESH_BINARY)\n",
    "    thresh_pets[:,:,m] = img"
   ]
  },
  {
   "cell_type": "code",
   "execution_count": 21,
   "metadata": {},
   "outputs": [
    {
     "name": "stdout",
     "output_type": "stream",
     "text": [
      "[(64L, 3L), (64L, 3L), (160L, 3L)]\n"
     ]
    }
   ],
   "source": [
    "# Feature extraction using tensor decomposition\n",
    "from tensorly.decomposition import parafac\n",
    "factors = parafac(edge_pets, rank = 3) # Calculating the CP decomposition\n",
    "features = factors[2] # Features matrix of size 160 by rank\n",
    "print([f.shape for f in factors])"
   ]
  },
  {
   "cell_type": "code",
   "execution_count": 22,
   "metadata": {
    "collapsed": true
   },
   "outputs": [],
   "source": [
    "def ClassifyData(data):\n",
    "\n",
    "    labels = np.concatenate((np.ones(80), [2] * 80), axis=0)\n",
    "    # data and labels for training\n",
    "    train_data = np.concatenate((data[:50, :], data[80:130,:]), axis=0)\n",
    "    train_labels = np.concatenate((labels[:50], labels[80:130]), axis=0)\n",
    "    # data and labels for testing\n",
    "    test_data = np.concatenate((data[50:80, :], data[130:,:]), axis=0)\n",
    "    test_labels = np.concatenate((labels[50:80], labels[130:]), axis=0)\n",
    "\n",
    "    # Apply ML algorithms\n",
    "\n",
    "    scores = []\n",
    "\n",
    "    # Linear Discriminant Analysis (LDA)\n",
    "    from sklearn.discriminant_analysis import LinearDiscriminantAnalysis as LDA\n",
    "    lda = LDA()\n",
    "    clf = lda.fit(train_data, train_labels)\n",
    "    scores.append(clf.score(test_data, test_labels))\n",
    "    \n",
    "    # Support Vector Machine (SVM)\n",
    "    from sklearn import svm\n",
    "    clf = svm.SVC(kernel='linear')\n",
    "    clf.fit(train_data, train_labels)\n",
    "    scores.append(clf.score(test_data, test_labels))\n",
    "\n",
    "    # Gaussian Naive Bayes (GNB)\n",
    "    from sklearn.naive_bayes import GaussianNB\n",
    "    clf = GaussianNB()\n",
    "    clf.fit(train_data, train_labels)\n",
    "    scores.append(clf.score(test_data, test_labels))\n",
    "\n",
    "    return [i * 100 for i in scores]"
   ]
  },
  {
   "cell_type": "code",
   "execution_count": 23,
   "metadata": {},
   "outputs": [
    {
     "name": "stdout",
     "output_type": "stream",
     "text": [
      "[80.0, 78.333333333333329, 75.0]\n"
     ]
    }
   ],
   "source": [
    "print(ClassifyData(features))"
   ]
  },
  {
   "cell_type": "code",
   "execution_count": null,
   "metadata": {
    "collapsed": true
   },
   "outputs": [],
   "source": []
  }
 ],
 "metadata": {
  "kernelspec": {
   "display_name": "p36workshop",
   "language": "python",
   "name": "p36workshop"
  },
  "language_info": {
   "codemirror_mode": {
    "name": "ipython",
    "version": 2
   },
   "file_extension": ".py",
   "mimetype": "text/x-python",
   "name": "python",
   "nbconvert_exporter": "python",
   "pygments_lexer": "ipython2",
   "version": "2.7.13"
  }
 },
 "nbformat": 4,
 "nbformat_minor": 2
}
