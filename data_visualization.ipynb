{
 "cells": [
  {
   "cell_type": "code",
   "execution_count": null,
   "metadata": {
    "collapsed": true
   },
   "outputs": [],
   "source": [
    "import numpy as np\n",
    "from numpy import genfromtxt\n",
    "import matplotlib.pyplot as plt\n",
    "\n",
    "# Import the data of a CSV file into a numpy array\n",
    "cats = genfromtxt('cat.csv', delimiter=',') # 80 cats (one in a column) each by 4096 pixels\n",
    "dogs = genfromtxt('dog.csv', delimiter=',') # 80 dogs (one in a column) each by 4096 pixels\n",
    "\n",
    "# Combine two arrays (cats and dogs) into one (pets)\n",
    "pets = np.empty([160, 4096]) # empty array of size 160 x 4096\n",
    "for m in range(80): \n",
    "    pets[m,:] = np.reshape(np.transpose(np.reshape(cats[:,m], (64,64))), (1,4096)) # cats in the first 80 rows (one in a row)\n",
    "    pets[m+80,:] = np.reshape(np.transpose(np.reshape(dogs[:,m], (64,64))), (1,4096)) # dogs in the other 80 rows (one in a row)"
   ]
  },
  {
   "cell_type": "code",
   "execution_count": null,
   "metadata": {
    "collapsed": true
   },
   "outputs": [],
   "source": [
    "# Convert pets images using edge detection\n",
    "from skimage.filters import sobel\n",
    "\n",
    "# apply sobel filter to pets and put result into a new array\n",
    "edge_pets = np.empty([160, 4096])\n",
    "for m in range(160):\n",
    "    edge_pets[m,:] = np.reshape(sobel(np.reshape(pets[m,:], (64,64))), (1,4096))"
   ]
  },
  {
   "cell_type": "code",
   "execution_count": null,
   "metadata": {},
   "outputs": [],
   "source": [
    "# Function to show an image\n",
    "def show_what(some_vector):\n",
    "    import numpy as np\n",
    "    import matplotlib.pyplot as plt\n",
    "    # reshape the input data to an image of 64x64 pixels and show it\n",
    "    plt.imshow(np.reshape(some_vector, (64, 64)), cmap = \"gray\")\n",
    "    plt.show()\n",
    "    return\n",
    "\n",
    "pet = pets[71, :] # get a pet vector\n",
    "show_what(pet) # test it"
   ]
  },
  {
   "cell_type": "code",
   "execution_count": null,
   "metadata": {},
   "outputs": [],
   "source": [
    "%%time\n",
    "\n",
    "# Apply t-SNE algorithm \n",
    "from MulticoreTSNE import MulticoreTSNE as tsne\n",
    "\n",
    "tsne_data = tsne().fit_transform(pets) # to pets\n",
    "tsne_edge = tsne().fit_transform(edge_pets) # to edged pets"
   ]
  },
  {
   "cell_type": "code",
   "execution_count": null,
   "metadata": {},
   "outputs": [],
   "source": [
    "%%time\n",
    "\n",
    "# Apply PCA algorithm\n",
    "from sklearn.decomposition import IncrementalPCA\n",
    "ipca = IncrementalPCA(n_components=3) # set the number of principal components\n",
    "ipca_data = ipca.fit_transform(pets) # pca to pets\n",
    "ipca_edge = ipca.fit_transform(edge_pets) # pca to edged pets"
   ]
  },
  {
   "cell_type": "code",
   "execution_count": null,
   "metadata": {
    "collapsed": true
   },
   "outputs": [],
   "source": [
    "# Define the colors for plot\n",
    "color = np.concatenate((np.zeros(80), np.ones(80)), axis=0) # zeros for cats and ones for dogs"
   ]
  },
  {
   "cell_type": "code",
   "execution_count": null,
   "metadata": {
    "collapsed": true
   },
   "outputs": [],
   "source": [
    "# Function to visualize the transformed data on a scatter plot (2D or 3D)\n",
    "#\n",
    "# input args: data - data to be visualized, init_data - initial data,\n",
    "#             color - coloring information, title - plot title, labels - axes labels\n",
    "\n",
    "def ShowScatterPlot(data, init_data, color, title, labels):\n",
    "    \n",
    "    import numpy as np\n",
    "    import matplotlib.pyplot as plt\n",
    "    \n",
    "    # Function to handle a pick event\n",
    "    def show_on_click(event):\n",
    "        \n",
    "        ind = event.ind #indices of a pick event\n",
    "        # reshape the i-th row of initial data to an image of 64x64 pixels and show it\n",
    "        for i in ind:\n",
    "            plt.figure()\n",
    "            plt.imshow(np.reshape(init_data[i,:], (64, 64)), cmap = \"gray\")\n",
    "            plt.title('Pet %i' %i)\n",
    "            plt.show()\n",
    "    \n",
    "    # 2D scatter plot\n",
    "    def ScatterPlot2D():\n",
    "        \n",
    "        fig = plt.figure()\n",
    "        ax = fig.add_subplot(111)\n",
    "        ax.scatter(data[:,0], data[:,1], c = color, picker = True)\n",
    "        ax.set_title(title)\n",
    "        ax.set_xlabel(labels[0])\n",
    "        ax.set_ylabel(labels[1])\n",
    "        plt.show()\n",
    "        fig.canvas.mpl_connect('pick_event', show_on_click)\n",
    "        \n",
    "     # 3D scatter plot    \n",
    "    def ScatterPlot3D():\n",
    "        \n",
    "        from mpl_toolkits.mplot3d import Axes3D\n",
    "\n",
    "        fig = plt.figure()\n",
    "        ax = fig.add_subplot(111, projection='3d')\n",
    "        ax.scatter(data[:,0], data[:,1], data[:,2], c = color, picker = True)\n",
    "        ax.set_title(title)\n",
    "        ax.set_xlabel(labels[0])\n",
    "        ax.set_ylabel(labels[1])\n",
    "        ax.set_zlabel(labels[2])\n",
    "        plt.show()\n",
    "        fig.canvas.mpl_connect('pick_event', show_on_click)\n",
    "    \n",
    "    # find number of columns in data\n",
    "    plot_type = data.shape[1]\n",
    "    \n",
    "    # decide what plot type is required\n",
    "    if plot_type == 2:\n",
    "        ScatterPlot2D()\n",
    "    elif plot_type == 3:\n",
    "        ScatterPlot3D()\n",
    "    else:\n",
    "        print('Inappropriate input data dimensions for 2D/3D plot')"
   ]
  },
  {
   "cell_type": "code",
   "execution_count": null,
   "metadata": {},
   "outputs": [],
   "source": [
    "# show plots in separate windows\n",
    "%matplotlib\n",
    "plt.close('all')"
   ]
  },
  {
   "cell_type": "code",
   "execution_count": null,
   "metadata": {},
   "outputs": [],
   "source": [
    "ShowScatterPlot(tsne_data, pets, color, 't-SNE for pets', ['x', 'y'])"
   ]
  },
  {
   "cell_type": "code",
   "execution_count": null,
   "metadata": {},
   "outputs": [],
   "source": [
    "ShowScatterPlot(tsne_edge, edge_pets, color, 't-SNE for pets (edge detection)', ['x', 'y'])"
   ]
  },
  {
   "cell_type": "code",
   "execution_count": null,
   "metadata": {},
   "outputs": [],
   "source": [
    "ShowScatterPlot(ipca_data, pets, color, 'PCA for pets', ['1st component', '2nd component','3rd component'])"
   ]
  },
  {
   "cell_type": "code",
   "execution_count": null,
   "metadata": {},
   "outputs": [],
   "source": [
    "ShowScatterPlot(ipca_edge, edge_pets, color, 'PCA for pets (edge detection)', ['1st component', '2nd component','3rd component'])"
   ]
  },
  {
   "cell_type": "code",
   "execution_count": null,
   "metadata": {
    "collapsed": true
   },
   "outputs": [],
   "source": []
  }
 ],
 "metadata": {
  "kernelspec": {
   "display_name": "Python 2",
   "language": "python",
   "name": "python2"
  },
  "language_info": {
   "codemirror_mode": {
    "name": "ipython",
    "version": 2
   },
   "file_extension": ".py",
   "mimetype": "text/x-python",
   "name": "python",
   "nbconvert_exporter": "python",
   "pygments_lexer": "ipython2",
   "version": "2.7.13"
  }
 },
 "nbformat": 4,
 "nbformat_minor": 2
}
